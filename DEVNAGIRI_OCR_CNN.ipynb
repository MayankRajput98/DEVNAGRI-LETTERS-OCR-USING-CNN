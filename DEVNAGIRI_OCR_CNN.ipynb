{
  "nbformat": 4,
  "nbformat_minor": 0,
  "metadata": {
    "colab": {
      "provenance": []
    },
    "kernelspec": {
      "name": "python3",
      "display_name": "Python 3"
    },
    "language_info": {
      "name": "python"
    }
  },
  "cells": [
    {
      "cell_type": "code",
      "execution_count": 13,
      "metadata": {
        "id": "1zYIRJxNJiv2"
      },
      "outputs": [],
      "source": [
        "import os\n",
        "import h5py\n",
        "import numpy as np\n",
        "from keras.preprocessing.image import ImageDataGenerator\n",
        "from keras import optimizers\n",
        "from tensorflow.keras.models import Sequential\n",
        "from tensorflow.keras.layers import Convolution2D,MaxPooling2D,Activation, Dropout, Flatten, Dense, BatchNormalization"
      ]
    },
    {
      "cell_type": "code",
      "source": [
        "from google.colab import drive\n",
        "drive.mount('/content/gdrive')\n",
        "!unzip Dataset.zip"
      ],
      "metadata": {
        "colab": {
          "base_uri": "https://localhost:8080/"
        },
        "id": "GsM6vYYJX6us",
        "outputId": "8fffe665-316f-416b-f81b-7c0ecd21ae62"
      },
      "execution_count": 14,
      "outputs": [
        {
          "output_type": "stream",
          "name": "stdout",
          "text": [
            "Drive already mounted at /content/gdrive; to attempt to forcibly remount, call drive.mount(\"/content/gdrive\", force_remount=True).\n",
            "Archive:  Dataset.zip\n",
            "replace DevanagariHandwrittenCharacterDataset/Test/character_10_yna/10544.png? [y]es, [n]o, [A]ll, [N]one, [r]ename: "
          ]
        }
      ]
    },
    {
      "cell_type": "code",
      "source": [
        "\n",
        "trainDataGen = ImageDataGenerator(\n",
        "\t\trotation_range = 5,\n",
        "\t\twidth_shift_range = 0.1,\n",
        "\t\theight_shift_range = 0.1,\n",
        "\t\trescale = 1.0/255,\n",
        "\t\tshear_range = 0.2,\n",
        "\t\tzoom_range = 0.2,\n",
        "\t\thorizontal_flip = False,\n",
        "\t\tfill_mode = 'nearest')\n",
        "\n",
        "test_datagen = ImageDataGenerator(rescale=1./255)\n",
        "trainGenerator = trainDataGen.flow_from_directory(\n",
        "\t\t\t\"DevanagariHandwrittenCharacterDataset/Train\",\n",
        "\t\t\ttarget_size = (32,32),\n",
        "\t\t\tbatch_size = 32,\n",
        "\t\t\tcolor_mode = \"grayscale\",\n",
        "\t\t\tclass_mode = \"categorical\")\n",
        "prev = \"\"\n",
        "labels = [\"ka\",\"kha\",\"ga\",\"gha\",\"kna\",\"cha\",\"chha\",\"ja\",\"jha\",\"yna\",\"t`a\",\"t`ha\",\"d`a\",\"d`ha\",\"adna\",\"ta\",\"tha\",\"da\",\"dha\",\"na\",\"pa\",\"pha\",\"ba\",\"bha\",\"ma\",\"yaw\",\"ra\",\"la\",\"waw\",\"sha\",\"shat\",\"sa\",\"ha\",\"aksha\",\"tra\",\"gya\",\"0\",\"1\",\"2\",\"3\",\"4\",\"5\",\"6\",\"7\",\"8\",\"9\"]\n",
        "count = 0;\n",
        "\n",
        "validation_generator = test_datagen.flow_from_directory(\n",
        "\t\t\t\"DevanagariHandwrittenCharacterDataset/Test\",\n",
        "\t\t\ttarget_size=(32,32),\n",
        "\t\t\tbatch_size=32,\n",
        "\t\t\tcolor_mode = \"grayscale\",\n",
        "\t\t\tclass_mode= 'categorical')\n",
        "\n",
        "model = Sequential()\n",
        "\n",
        "#Layer1----------------------------------------------------------\n",
        "model.add(Convolution2D(filters = 32,\n",
        "\t\t\tkernel_size = (3,3),\n",
        "\t\t\tstrides = 1,\n",
        "\t\t\tactivation = \"relu\",\n",
        "\t\t\tinput_shape = (32,32,1)))\n",
        "\n",
        "model.add(BatchNormalization())\n",
        "#model.add(Dropout(0.25))\n",
        "model.add(MaxPooling2D(pool_size=(2, 2),\n",
        "\t\t\tstrides=(2, 2),\n",
        "\t\t\tpadding=\"same\"))\n",
        "\n",
        "#Layer2-------------------------------------------------------------\n",
        "model.add(Convolution2D(filters = 32,\n",
        "\t\t\tkernel_size = (3,3),\n",
        "\t\t\tstrides = 1,\n",
        "\t\t\tactivation = \"relu\",\n",
        "\t\t\tinput_shape = (32,32,1)))\n",
        "model.add(BatchNormalization())\n",
        "#model.add(MaxPooling2D())\n",
        "model.add(MaxPooling2D(pool_size=(2, 2),\n",
        "\t\t\tstrides=(2, 2),\n",
        "\t\t\tpadding=\"same\"))\n",
        "#model.add(Dropout(0.25))\n",
        "\n",
        "\n",
        "#Layers 3-----------------------------------------------------------\n",
        "model.add(Convolution2D(filters = 64,\n",
        "\t\t\tkernel_size = (3,3),\n",
        "\t\t\tstrides = 1,\n",
        "\t\t\tactivation = \"relu\"))\n",
        "model.add(BatchNormalization())\n",
        "model.add(MaxPooling2D(pool_size=(2, 2),\n",
        "\t\t\tstrides=(2, 2),\n",
        "\t\t\tpadding=\"same\"))\n",
        "\n",
        "\n",
        "#Layer 4--------------------------------------------------\n",
        "model.add(Convolution2D(filters = 64,\n",
        "\t\t\tkernel_size = (3,3),\n",
        "\t\t\tstrides= 1,\n",
        "\t\t\tactivation = \"relu\"))\n",
        "model.add(BatchNormalization())\n",
        "model.add(MaxPooling2D(pool_size=(2, 2),\n",
        "\t\t\tstrides=(2, 2),\n",
        "\t\t\tpadding=\"same\"))\n",
        "\n",
        "#model.add(Dropout(0.2))\n",
        "\n",
        "\n",
        "#Layer 5------------------------------------------------------------\n",
        "'''model.add(Convolution2D(filters = 64,\n",
        "\t\t\tkernel_size = (2,2),\n",
        "\t\t\tstrides= 1,\n",
        "\t\t\tactivation = \"relu\"))\n",
        "model.add(BatchNormalization())\n",
        "model.add(MaxPooling2D(pool_size=(2, 2),\n",
        "\t\t\tstrides=(2, 2),\n",
        "\t\t\tpadding=\"same\"))\n",
        "\n",
        "'''\n",
        "\n",
        "model.add(Flatten())\n",
        "\n",
        "model.add(Dense(128,\n",
        "\t\tactivation = \"relu\",\n",
        "\t\tkernel_initializer = \"uniform\"))\n",
        "model.add(BatchNormalization())\n",
        "\n",
        "model.add(Dense(64,\n",
        "\t\tactivation = \"relu\",\n",
        "\t\tkernel_initializer = \"uniform\"))\n",
        "model.add(BatchNormalization())\n",
        "\n",
        "model.add(Dense(46,\n",
        "\t\tactivation = \"softmax\",\n",
        "\t\tkernel_initializer = \"uniform\"))\n",
        "\n",
        "model.compile(optimizer = \"adam\",\n",
        "\t\tloss = \"categorical_crossentropy\",\n",
        "\t\tmetrics = [\"accuracy\"])\n",
        "\n",
        "print(model.summary())\n",
        "\n",
        "res=model.fit_generator(\n",
        "\t\ttrainGenerator,\n",
        "\t\tepochs = 5,\n",
        "\t\tsteps_per_epoch = 2444,\n",
        "\t\tvalidation_data = validation_generator,\n",
        "\t\tvalidation_steps = 432\n",
        "\t\t)\n",
        "\n",
        "%matplotlib inline\n",
        "accu=res.history['accuracy']\n",
        "val_acc=res.history['val_accuracy']\n",
        "loss=res.history['loss']\n",
        "val_loss=res.history['val_loss']\n",
        "\n",
        "epochs=range(len(accu)) #No. of epochs\n",
        "\n",
        "import matplotlib.pyplot as plt\n",
        "plt.plot(epochs,accu,'r',label='Training Accuracy')\n",
        "plt.plot(epochs,val_acc,'g',label='Testing Accuracy')\n",
        "plt.legend()\n",
        "plt.figure()\n",
        "\n",
        "#Plot training and validation loss per epoch\n",
        "plt.plot(epochs,loss,'r',label='Training Loss')\n",
        "plt.plot(epochs,val_loss,'g',label='Testing Loss')\n",
        "plt.legend()\n",
        "plt.show()\n",
        "\n",
        "model.save(\"HindiModel2.h5\")"
      ],
      "metadata": {
        "colab": {
          "base_uri": "https://localhost:8080/",
          "height": 1000
        },
        "id": "oZA1Q636RRar",
        "outputId": "0499bd66-cd7d-4185-f2ee-3d44c63b6cc8"
      },
      "execution_count": 9,
      "outputs": [
        {
          "output_type": "stream",
          "name": "stdout",
          "text": [
            "Found 78200 images belonging to 46 classes.\n",
            "Found 13800 images belonging to 46 classes.\n",
            "Model: \"sequential\"\n",
            "_________________________________________________________________\n",
            " Layer (type)                Output Shape              Param #   \n",
            "=================================================================\n",
            " conv2d (Conv2D)             (None, 30, 30, 32)        320       \n",
            "                                                                 \n",
            " batch_normalization (BatchN  (None, 30, 30, 32)       128       \n",
            " ormalization)                                                   \n",
            "                                                                 \n",
            " max_pooling2d (MaxPooling2D  (None, 15, 15, 32)       0         \n",
            " )                                                               \n",
            "                                                                 \n",
            " conv2d_1 (Conv2D)           (None, 13, 13, 32)        9248      \n",
            "                                                                 \n",
            " batch_normalization_1 (Batc  (None, 13, 13, 32)       128       \n",
            " hNormalization)                                                 \n",
            "                                                                 \n",
            " max_pooling2d_1 (MaxPooling  (None, 7, 7, 32)         0         \n",
            " 2D)                                                             \n",
            "                                                                 \n",
            " conv2d_2 (Conv2D)           (None, 5, 5, 64)          18496     \n",
            "                                                                 \n",
            " batch_normalization_2 (Batc  (None, 5, 5, 64)         256       \n",
            " hNormalization)                                                 \n",
            "                                                                 \n",
            " max_pooling2d_2 (MaxPooling  (None, 3, 3, 64)         0         \n",
            " 2D)                                                             \n",
            "                                                                 \n",
            " conv2d_3 (Conv2D)           (None, 1, 1, 64)          36928     \n",
            "                                                                 \n",
            " batch_normalization_3 (Batc  (None, 1, 1, 64)         256       \n",
            " hNormalization)                                                 \n",
            "                                                                 \n",
            " max_pooling2d_3 (MaxPooling  (None, 1, 1, 64)         0         \n",
            " 2D)                                                             \n",
            "                                                                 \n",
            " flatten (Flatten)           (None, 64)                0         \n",
            "                                                                 \n",
            " dense (Dense)               (None, 128)               8320      \n",
            "                                                                 \n",
            " batch_normalization_4 (Batc  (None, 128)              512       \n",
            " hNormalization)                                                 \n",
            "                                                                 \n",
            " dense_1 (Dense)             (None, 64)                8256      \n",
            "                                                                 \n",
            " batch_normalization_5 (Batc  (None, 64)               256       \n",
            " hNormalization)                                                 \n",
            "                                                                 \n",
            " dense_2 (Dense)             (None, 46)                2990      \n",
            "                                                                 \n",
            "=================================================================\n",
            "Total params: 86,094\n",
            "Trainable params: 85,326\n",
            "Non-trainable params: 768\n",
            "_________________________________________________________________\n",
            "None\n"
          ]
        },
        {
          "output_type": "stream",
          "name": "stderr",
          "text": [
            "<ipython-input-9-bffc6afb848c>:116: UserWarning: `Model.fit_generator` is deprecated and will be removed in a future version. Please use `Model.fit`, which supports generators.\n",
            "  res=model.fit_generator(\n"
          ]
        },
        {
          "output_type": "stream",
          "name": "stdout",
          "text": [
            "Epoch 1/25\n",
            "2444/2444 [==============================] - 115s 46ms/step - loss: 0.7907 - accuracy: 0.7804 - val_loss: 0.1768 - val_accuracy: 0.9431\n",
            "Epoch 2/25\n",
            "2444/2444 [==============================] - 107s 44ms/step - loss: 0.2904 - accuracy: 0.9102 - val_loss: 0.1043 - val_accuracy: 0.9683\n",
            "Epoch 3/25\n",
            "2444/2444 [==============================] - 106s 43ms/step - loss: 0.2262 - accuracy: 0.9294 - val_loss: 0.0886 - val_accuracy: 0.9716\n",
            "Epoch 4/25\n",
            "2444/2444 [==============================] - 107s 44ms/step - loss: 0.1926 - accuracy: 0.9400 - val_loss: 0.0693 - val_accuracy: 0.9796\n",
            "Epoch 5/25\n",
            "2444/2444 [==============================] - 107s 44ms/step - loss: 0.1687 - accuracy: 0.9472 - val_loss: 0.2155 - val_accuracy: 0.9344\n",
            "Epoch 6/25\n",
            "2444/2444 [==============================] - 106s 43ms/step - loss: 0.1556 - accuracy: 0.9515 - val_loss: 0.0914 - val_accuracy: 0.9717\n",
            "Epoch 7/25\n",
            "2444/2444 [==============================] - 106s 43ms/step - loss: 0.1430 - accuracy: 0.9555 - val_loss: 0.0691 - val_accuracy: 0.9785\n",
            "Epoch 8/25\n",
            "2444/2444 [==============================] - 106s 44ms/step - loss: 0.1315 - accuracy: 0.9590 - val_loss: 0.0628 - val_accuracy: 0.9808\n",
            "Epoch 9/25\n",
            "2444/2444 [==============================] - 111s 46ms/step - loss: 0.1274 - accuracy: 0.9603 - val_loss: 0.0565 - val_accuracy: 0.9825\n",
            "Epoch 10/25\n",
            "2444/2444 [==============================] - 110s 45ms/step - loss: 0.1219 - accuracy: 0.9622 - val_loss: 0.0692 - val_accuracy: 0.9784\n",
            "Epoch 11/25\n",
            "2444/2444 [==============================] - 106s 43ms/step - loss: 0.1101 - accuracy: 0.9651 - val_loss: 0.0488 - val_accuracy: 0.9835\n",
            "Epoch 12/25\n",
            "2444/2444 [==============================] - 107s 44ms/step - loss: 0.1095 - accuracy: 0.9660 - val_loss: 0.0620 - val_accuracy: 0.9801\n",
            "Epoch 13/25\n",
            "2444/2444 [==============================] - 110s 45ms/step - loss: 0.1051 - accuracy: 0.9669 - val_loss: 0.0423 - val_accuracy: 0.9864\n",
            "Epoch 14/25\n",
            "2444/2444 [==============================] - 105s 43ms/step - loss: 0.1040 - accuracy: 0.9672 - val_loss: 0.0421 - val_accuracy: 0.9873\n",
            "Epoch 15/25\n",
            "2444/2444 [==============================] - 106s 43ms/step - loss: 0.0977 - accuracy: 0.9694 - val_loss: 0.0403 - val_accuracy: 0.9872\n",
            "Epoch 16/25\n",
            "2444/2444 [==============================] - 106s 43ms/step - loss: 0.0957 - accuracy: 0.9697 - val_loss: 0.0620 - val_accuracy: 0.9796\n",
            "Epoch 17/25\n",
            "2444/2444 [==============================] - 106s 43ms/step - loss: 0.0911 - accuracy: 0.9713 - val_loss: 0.0397 - val_accuracy: 0.9894\n",
            "Epoch 18/25\n",
            "2444/2444 [==============================] - 106s 43ms/step - loss: 0.0885 - accuracy: 0.9719 - val_loss: 0.0477 - val_accuracy: 0.9852\n",
            "Epoch 19/25\n",
            "2444/2444 [==============================] - 106s 43ms/step - loss: 0.0865 - accuracy: 0.9734 - val_loss: 0.0400 - val_accuracy: 0.9879\n",
            "Epoch 20/25\n",
            "2444/2444 [==============================] - 106s 43ms/step - loss: 0.0827 - accuracy: 0.9739 - val_loss: 0.0483 - val_accuracy: 0.9851\n",
            "Epoch 21/25\n",
            "2444/2444 [==============================] - 107s 44ms/step - loss: 0.0822 - accuracy: 0.9740 - val_loss: 0.0418 - val_accuracy: 0.9876\n",
            "Epoch 22/25\n",
            "2444/2444 [==============================] - 106s 43ms/step - loss: 0.0785 - accuracy: 0.9751 - val_loss: 0.0460 - val_accuracy: 0.9870\n",
            "Epoch 23/25\n",
            "2444/2444 [==============================] - 106s 43ms/step - loss: 0.0804 - accuracy: 0.9748 - val_loss: 0.0357 - val_accuracy: 0.9893\n",
            "Epoch 24/25\n",
            "2444/2444 [==============================] - 106s 43ms/step - loss: 0.0778 - accuracy: 0.9758 - val_loss: 0.0358 - val_accuracy: 0.9893\n",
            "Epoch 25/25\n",
            "2444/2444 [==============================] - 106s 43ms/step - loss: 0.0764 - accuracy: 0.9765 - val_loss: 0.0401 - val_accuracy: 0.9865\n"
          ]
        },
        {
          "output_type": "display_data",
          "data": {
            "text/plain": [
              "<Figure size 640x480 with 1 Axes>"
            ],
            "image/png": "[encoded data removed]"
          },
          "metadata": {}
        },
        {
          "output_type": "display_data",
          "data": {
            "text/plain": [
              "<Figure size 640x480 with 1 Axes>"
            ],
            "image/png": "[encoded data removed]"
          },
          "metadata": {}
        }
      ]
    },
    {
      "cell_type": "code",
      "source": [
        "import cv2\n",
        "from tensorflow.keras.models import load_model\n",
        "\n",
        "# Load the trained model\n",
        "model = load_model(\"HindiModel2.h5\")\n",
        "\n",
        "# Load and preprocess the image you want to test\n",
        "image_path = \"l.png\"\n",
        "image = cv2.imread(image_path, cv2.IMREAD_GRAYSCALE)\n",
        "image = cv2.resize(image, (32, 32))\n",
        "image = image.astype('float32') / 255.0\n",
        "image = np.expand_dims(image, axis=0)\n",
        "image = np.expand_dims(image, axis=3)\n",
        "\n",
        "# Predict the label of the image\n",
        "prediction = model.predict(image)\n",
        "predicted_label_index = np.argmax(prediction)\n",
        "predicted_label = labels[predicted_label_index]\n",
        "\n",
        "print(\"Predicted label:\", predicted_label)\n"
      ],
      "metadata": {
        "colab": {
          "base_uri": "https://localhost:8080/"
        },
        "id": "8WgfPnAwn_lr",
        "outputId": "8b589d20-9077-4149-a870-6f5a3e0b8fe5"
      },
      "execution_count": 12,
      "outputs": [
        {
          "output_type": "stream",
          "name": "stdout",
          "text": [
            "1/1 [==============================] - 0s 118ms/step\n",
            "Predicted label: d`a\n"
          ]
        }
      ]
    },
    {
      "cell_type": "code",
      "source": [],
      "metadata": {
        "id": "nDSlkI2XlMOv"
      },
      "execution_count": null,
      "outputs": []
    }
  ]
}